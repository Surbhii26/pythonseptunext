{
 "cells": [
  {
   "cell_type": "code",
   "execution_count": 1,
   "id": "2b2fcd31",
   "metadata": {},
   "outputs": [
    {
     "name": "stdout",
     "output_type": "stream",
     "text": [
      "[('Java', 14), ('Python', 3), ('Javascript', 6)]\n"
     ]
    }
   ],
   "source": [
    "languages = ['Java' , 'Python' , 'Javascript']\n",
    "versions = [14,3,6]\n",
    "result = zip(languages,versions)\n",
    "print(list(result))"
   ]
  },
  {
   "cell_type": "code",
   "execution_count": 2,
   "id": "3df1f513",
   "metadata": {},
   "outputs": [
    {
     "name": "stdout",
     "output_type": "stream",
     "text": [
      "    Name  Age\n",
      "0    tom   20\n",
      "1   nick   21\n",
      "2  krish   19\n",
      "3   jack   18\n"
     ]
    }
   ],
   "source": [
    "data = {'Name' :['tom','nick','krish','jack'], 'Age':[20,21,19,18]}\n",
    "import pandas as pd\n",
    "dfEmpl = pd.DataFrame(data)\n",
    "print(dfEmpl)"
   ]
  },
  {
   "cell_type": "code",
   "execution_count": 4,
   "id": "fc7a7ecb",
   "metadata": {},
   "outputs": [
    {
     "data": {
      "text/plain": [
       "0    20\n",
       "1    21\n",
       "2    19\n",
       "Name: Age, dtype: int64"
      ]
     },
     "execution_count": 4,
     "metadata": {},
     "output_type": "execute_result"
    }
   ],
   "source": [
    "seremplage = pd.Series(dfEmpl['Age'])\n",
    "seremplage.head(3)\n"
   ]
  },
  {
   "cell_type": "code",
   "execution_count": 1,
   "id": "9f21a1e1",
   "metadata": {},
   "outputs": [
    {
     "name": "stdout",
     "output_type": "stream",
     "text": [
      "np.array():\n",
      " [1 3 5]\n"
     ]
    }
   ],
   "source": [
    "import numpy as np\n",
    "array1= np.array ([1,3,5])\n",
    "print(\"np.array():\\n\", array1)"
   ]
  },
  {
   "cell_type": "code",
   "execution_count": 2,
   "id": "da88b03d",
   "metadata": {},
   "outputs": [
    {
     "name": "stdout",
     "output_type": "stream",
     "text": [
      "\n",
      "np.zeros():\n",
      " [[0. 0. 0.]\n",
      " [0. 0. 0.]\n",
      " [0. 0. 0.]]\n"
     ]
    }
   ],
   "source": [
    "array2= np.zeros((3,3))\n",
    "print(\"\\nnp.zeros():\\n\", array2)"
   ]
  },
  {
   "cell_type": "code",
   "execution_count": 3,
   "id": "a210be41",
   "metadata": {},
   "outputs": [
    {
     "name": "stdout",
     "output_type": "stream",
     "text": [
      "Original array:\n",
      " [ 1  3  5  7  9 11]\n",
      "Reshaped array:\n",
      " [[ 1  3  5]\n",
      " [ 7  9 11]]\n",
      "Transposed array:\n",
      " [[ 1  7]\n",
      " [ 3  9]\n",
      " [ 5 11]]\n"
     ]
    }
   ],
   "source": [
    "array3= np.array([1,3,5,7,9,11])\n",
    "array4= np.reshape(array3,(2,3))\n",
    "array5= np.transpose(array4)\n",
    "print(\"Original array:\\n\", array3)\n",
    "print(\"Reshaped array:\\n\", array4)\n",
    "print(\"Transposed array:\\n\", array5)"
   ]
  },
  {
   "cell_type": "code",
   "execution_count": null,
   "id": "75f577a0",
   "metadata": {},
   "outputs": [],
   "source": []
  }
 ],
 "metadata": {
  "kernelspec": {
   "display_name": "Python 3 (ipykernel)",
   "language": "python",
   "name": "python3"
  },
  "language_info": {
   "codemirror_mode": {
    "name": "ipython",
    "version": 3
   },
   "file_extension": ".py",
   "mimetype": "text/x-python",
   "name": "python",
   "nbconvert_exporter": "python",
   "pygments_lexer": "ipython3",
   "version": "3.11.4"
  }
 },
 "nbformat": 4,
 "nbformat_minor": 5
}
